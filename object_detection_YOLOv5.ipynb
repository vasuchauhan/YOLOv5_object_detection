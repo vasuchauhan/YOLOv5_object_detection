{
 "cells": [
  {
   "cell_type": "markdown",
   "metadata": {},
   "source": [
    "# Object Detection using YOLOv5\n",
    "\n",
    "This notebook implements object detection using YOLOv5, a state-of-the-art detection model. We'll use the pre-trained YOLOv5s model, which offers a good balance between speed and accuracy.\n"
   ]
  },
  {
   "cell_type": "code",
   "execution_count": null,
   "metadata": {},
   "outputs": [],
   "source": [
    "import torch\n",
    "import cv2\n",
    "import numpy as np\n",
    "import matplotlib.pyplot as plt\n",
    "from ultralytics import YOLO\n",
    "import os\n",
    "\n",
    "# Set up matplotlib for larger figures\n",
    "plt.rcParams['figure.figsize'] = [15, 10]\n",
    "\n",
    "# Create necessary directories\n",
    "os.makedirs('weights', exist_ok=True)\n",
    "os.makedirs('images', exist_ok=True)\n",
    "os.makedirs('output', exist_ok=True)"
   ]
  },
  {
   "cell_type": "markdown",
   "metadata": {},
   "source": [
    "## Load the YOLOv5 Model\n",
    "\n",
    "We'll load the pre-trained YOLOv5s model. Make sure you've downloaded the weights file (`yolov5s.pt`) and placed it in the 'weights' directory."
   ]
  },
  {
   "cell_type": "code",
   "execution_count": null,
   "metadata": {},
   "outputs": [],
   "source": [
    "# Check if weights file exists\n",
    "WEIGHTS_PATH = 'weights/yolov5s.pt'\n",
    "\n",
    "if not os.path.exists(WEIGHTS_PATH):\n",
    "    print(\"Error: YOLOv5 weights file not found!\")\n",
    "    print(\"Please download yolov5s.pt and place it in the 'weights' directory\")\n",
    "else:\n",
    "    print(\"YOLOv5 weights found successfully!\")\n",
    "    \n",
    "# Load the model\n",
    "model = YOLO(WEIGHTS_PATH)\n",
    "\n",
    "# Set device (CPU/GPU)\n",
    "device = torch.device('cuda' if torch.cuda.is_available() else 'cpu')\n",
    "print(f\"Using device: {device}\")"
   ]
  },
  {
   "cell_type": "code",
   "execution_count": 3,
   "metadata": {},
   "outputs": [],
   "source": [
    "def process_image(image_path, conf_threshold=0.25):\n",
    "    \"\"\"\n",
    "    Process an image using YOLOv5 for object detection\n",
    "    \n",
    "    Args:\n",
    "        image_path (str): Path to the input image\n",
    "        conf_threshold (float): Confidence threshold for detections (0-1)\n",
    "        \n",
    "    Returns:\n",
    "        None (displays the results)\n",
    "    \"\"\"\n",
    "    # Check if image exists\n",
    "    if not os.path.exists(image_path):\n",
    "        print(f\"Error: Image not found at {image_path}\")\n",
    "        return\n",
    "    \n",
    "    # Read the image\n",
    "    image = cv2.imread(image_path)\n",
    "    image = cv2.cvtColor(image, cv2.COLOR_BGR2RGB)\n",
    "    \n",
    "    # Perform detection\n",
    "    results = model(image, conf=conf_threshold)\n",
    "    \n",
    "    # Plot results\n",
    "    plt.figure(figsize=(15, 10))\n",
    "    \n",
    "    # Original image\n",
    "    plt.subplot(1, 2, 1)\n",
    "    plt.title('Original Image')\n",
    "    plt.imshow(image)\n",
    "    plt.axis('off')\n",
    "    \n",
    "    # Detection results\n",
    "    plt.subplot(1, 2, 2)\n",
    "    plt.title('Detection Results')\n",
    "    \n",
    "    # Get the plotted image with detections\n",
    "    result_plot = results[0].plot()\n",
    "    result_plot = cv2.cvtColor(result_plot, cv2.COLOR_BGR2RGB)\n",
    "    plt.imshow(result_plot)\n",
    "    plt.axis('off')\n",
    "    \n",
    "    plt.tight_layout()\n",
    "    plt.show()\n",
    "    \n",
    "    # Print detection information\n",
    "    print(\"\\nDetections:\")\n",
    "    for r in results:\n",
    "        for box in r.boxes:\n",
    "            cls = int(box.cls[0])\n",
    "            conf = float(box.conf[0])\n",
    "            class_name = model.names[cls]\n",
    "            print(f\"{class_name}: {conf:.2f}\")\n",
    "            \n",
    "    # Save the result\n",
    "    output_path = os.path.join('output', os.path.basename(image_path))\n",
    "    cv2.imwrite(output_path, cv2.cvtColor(result_plot, cv2.COLOR_RGB2BGR))\n",
    "    print(f\"\\nSaved result to: {output_path}\")"
   ]
  },
  {
   "cell_type": "code",
   "execution_count": 4,
   "metadata": {},
   "outputs": [],
   "source": [
    "def batch_process_directory(directory='images', conf_threshold=0.25):\n",
    "    \"\"\"\n",
    "    Process all images in a directory\n",
    "    \n",
    "    Args:\n",
    "        directory (str): Path to directory containing images\n",
    "        conf_threshold (float): Confidence threshold for detections\n",
    "    \"\"\"\n",
    "    # Get all image files\n",
    "    image_extensions = ('.jpg', '.jpeg', '.png', '.bmp')\n",
    "    image_files = [f for f in os.listdir(directory) \n",
    "                   if f.lower().endswith(image_extensions)]\n",
    "    \n",
    "    if not image_files:\n",
    "        print(f\"No images found in {directory}\")\n",
    "        return\n",
    "    \n",
    "    print(f\"Found {len(image_files)} images\")\n",
    "    \n",
    "    # Process each image\n",
    "    for image_file in image_files:\n",
    "        image_path = os.path.join(directory, image_file)\n",
    "        print(f\"\\nProcessing: {image_file}\")\n",
    "        process_image(image_path, conf_threshold)"
   ]
  },
  {
   "cell_type": "markdown",
   "metadata": {},
   "source": [
    "## Process Single Image\n",
    "\n",
    "To process a single image, use the following code (replace 'image_path' with your image path):"
   ]
  },
  {
   "cell_type": "code",
   "execution_count": null,
   "metadata": {},
   "outputs": [],
   "source": [
    "# Process a single image\n",
    "image_path = 'images/test1.jpg'  # Replace with your image path\n",
    "process_image(image_path, conf_threshold=0.25)"
   ]
  },
  {
   "cell_type": "markdown",
   "metadata": {},
   "source": [
    "## Process All Images in Directory\n",
    "\n",
    "To process all images in your images directory:"
   ]
  },
  {
   "cell_type": "code",
   "execution_count": null,
   "metadata": {},
   "outputs": [],
   "source": [
    "# Process all images in the directory\n",
    "batch_process_directory('images', conf_threshold=0.25)"
   ]
  }
 ],
 "metadata": {
  "kernelspec": {
   "display_name": "Python 3",
   "language": "python",
   "name": "python3"
  },
  "language_info": {
   "codemirror_mode": {
    "name": "ipython",
    "version": 3
   },
   "file_extension": ".py",
   "mimetype": "text/x-python",
   "name": "python",
   "nbconvert_exporter": "python",
   "pygments_lexer": "ipython3",
   "version": "3.12.3"
  }
 },
 "nbformat": 4,
 "nbformat_minor": 4
}
